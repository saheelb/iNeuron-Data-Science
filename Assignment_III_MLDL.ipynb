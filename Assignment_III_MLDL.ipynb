{
  "nbformat": 4,
  "nbformat_minor": 0,
  "metadata": {
    "colab": {
      "name": "Assignment 3_MLDL.ipynb",
      "provenance": []
    },
    "kernelspec": {
      "name": "python3",
      "display_name": "Python 3"
    }
  },
  "cells": [
    {
      "cell_type": "markdown",
      "metadata": {
        "id": "zsLn73EtsCmQ",
        "colab_type": "text"
      },
      "source": [
        "QUESTION I"
      ]
    },
    {
      "cell_type": "code",
      "metadata": {
        "id": "Rf9qAYjPsJNz",
        "colab_type": "code",
        "colab": {}
      },
      "source": [
        "def myreduce(function,items):\n",
        "  result = items[0]\n",
        "  for item in items[1:]:\n",
        "    result = function1(result ,item )\n",
        "\n",
        "  return result  "
      ],
      "execution_count": null,
      "outputs": []
    },
    {
      "cell_type": "code",
      "metadata": {
        "id": "k41E7bW9tmxj",
        "colab_type": "code",
        "colab": {
          "base_uri": "https://localhost:8080/",
          "height": 35
        },
        "outputId": "08df474a-27bd-4f7d-9779-99689323aa48"
      },
      "source": [
        "myreduce(lambda x ,y : x + y , [3,4,5,6,7])"
      ],
      "execution_count": null,
      "outputs": [
        {
          "output_type": "execute_result",
          "data": {
            "text/plain": [
              "25"
            ]
          },
          "metadata": {
            "tags": []
          },
          "execution_count": 34
        }
      ]
    },
    {
      "cell_type": "markdown",
      "metadata": {
        "id": "XCYZPNMw7ciP",
        "colab_type": "text"
      },
      "source": [
        "QUESTION II"
      ]
    },
    {
      "cell_type": "code",
      "metadata": {
        "id": "vlL4nKKE7atJ",
        "colab_type": "code",
        "colab": {}
      },
      "source": [
        "def myfilter(function, items):\n",
        " result = []\n",
        "\n",
        " for item in items:\n",
        "  if function(item):\n",
        "   result.append(item)\n",
        "\n",
        " return result"
      ],
      "execution_count": null,
      "outputs": []
    },
    {
      "cell_type": "code",
      "metadata": {
        "id": "g58YCs7KOOpX",
        "colab_type": "code",
        "colab": {
          "base_uri": "https://localhost:8080/",
          "height": 35
        },
        "outputId": "b998249d-8366-4ae3-808a-07209a7f006a"
      },
      "source": [
        "myfilter(lambda x :x> 0 , [4,-1,3,-5,0,-1,4] )"
      ],
      "execution_count": null,
      "outputs": [
        {
          "output_type": "execute_result",
          "data": {
            "text/plain": [
              "[4, 3, 4]"
            ]
          },
          "metadata": {
            "tags": []
          },
          "execution_count": 36
        }
      ]
    },
    {
      "cell_type": "markdown",
      "metadata": {
        "id": "XHCZLeYzP9Zt",
        "colab_type": "text"
      },
      "source": [
        "QUESTION III"
      ]
    },
    {
      "cell_type": "markdown",
      "metadata": {
        "id": "V3aj6p4SQq5A",
        "colab_type": "text"
      },
      "source": [
        "i)"
      ]
    },
    {
      "cell_type": "code",
      "metadata": {
        "id": "6av4naSRQslZ",
        "colab_type": "code",
        "colab": {
          "base_uri": "https://localhost:8080/",
          "height": 35
        },
        "outputId": "d7d5b967-ed47-4f95-b74e-d8b8b6c3f764"
      },
      "source": [
        "input  = ['x' , 'y' , 'z']\n",
        "output = [iterables * num for iterables in input for num in range(1,5)]\n",
        "print(output)\n"
      ],
      "execution_count": null,
      "outputs": [
        {
          "output_type": "stream",
          "text": [
            "['x', 'xx', 'xxx', 'xxxx', 'y', 'yy', 'yyy', 'yyyy', 'z', 'zz', 'zzz', 'zzzz']\n"
          ],
          "name": "stdout"
        }
      ]
    },
    {
      "cell_type": "markdown",
      "metadata": {
        "id": "79tNOxn_S0vD",
        "colab_type": "text"
      },
      "source": [
        "ii) "
      ]
    },
    {
      "cell_type": "code",
      "metadata": {
        "id": "69wCgqArS2bs",
        "colab_type": "code",
        "colab": {
          "base_uri": "https://localhost:8080/",
          "height": 35
        },
        "outputId": "a87f3de0-5c5d-4613-dce4-16cef24c42bf"
      },
      "source": [
        " output = [iterables * num for num in range(1,5) for iterables in input]\n",
        " print(output)"
      ],
      "execution_count": null,
      "outputs": [
        {
          "output_type": "stream",
          "text": [
            "['x', 'y', 'z', 'xx', 'yy', 'zz', 'xxx', 'yyy', 'zzz', 'xxxx', 'yyyy', 'zzzz']\n"
          ],
          "name": "stdout"
        }
      ]
    },
    {
      "cell_type": "markdown",
      "metadata": {
        "id": "g5Ea4IUrTl6f",
        "colab_type": "text"
      },
      "source": [
        "iii)"
      ]
    },
    {
      "cell_type": "code",
      "metadata": {
        "id": "i15h9meFTVpz",
        "colab_type": "code",
        "colab": {
          "base_uri": "https://localhost:8080/",
          "height": 35
        },
        "outputId": "4694d039-ea06-43d9-a535-ac16b97e5729"
      },
      "source": [
        "input  = [2,3,4]\n",
        "output = [[iterables+num ] for iterables in input for num in range(0,3) ]\n",
        "print(output)"
      ],
      "execution_count": 57,
      "outputs": [
        {
          "output_type": "stream",
          "text": [
            "[[2], [3], [4], [3], [4], [5], [4], [5], [6]]\n"
          ],
          "name": "stdout"
        }
      ]
    },
    {
      "cell_type": "markdown",
      "metadata": {
        "id": "wAAOxlp4Zcuw",
        "colab_type": "text"
      },
      "source": [
        "iv)"
      ]
    },
    {
      "cell_type": "code",
      "metadata": {
        "id": "RpU46RduVgxb",
        "colab_type": "code",
        "colab": {
          "base_uri": "https://localhost:8080/",
          "height": 35
        },
        "outputId": "17e2d41d-78f3-44a2-cc1b-a131b6372a5a"
      },
      "source": [
        "input = [2,3,4,5]\n",
        "output = [[iterables+ num for iterables in input ] for num in range(0,4)]\n",
        "print(output)"
      ],
      "execution_count": 59,
      "outputs": [
        {
          "output_type": "stream",
          "text": [
            "[[2, 3, 4, 5], [3, 4, 5, 6], [4, 5, 6, 7], [5, 6, 7, 8]]\n"
          ],
          "name": "stdout"
        }
      ]
    },
    {
      "cell_type": "markdown",
      "metadata": {
        "id": "dtF9RaPGZfkv",
        "colab_type": "text"
      },
      "source": [
        "v)"
      ]
    },
    {
      "cell_type": "code",
      "metadata": {
        "id": "mKBwP7NxZTIa",
        "colab_type": "code",
        "colab": {
          "base_uri": "https://localhost:8080/",
          "height": 35
        },
        "outputId": "8c0ef747-7cbb-4d44-b325-e58c17f3883a"
      },
      "source": [
        "input = [1 ,2 ,3 ]\n",
        "output = [(y,x) for x in input for y in input ]\n",
        "print(output)"
      ],
      "execution_count": 63,
      "outputs": [
        {
          "output_type": "stream",
          "text": [
            "[(1, 1), (2, 1), (3, 1), (1, 2), (2, 2), (3, 2), (1, 3), (2, 3), (3, 3)]\n"
          ],
          "name": "stdout"
        }
      ]
    },
    {
      "cell_type": "code",
      "metadata": {
        "id": "1Ir_djkiaUaH",
        "colab_type": "code",
        "colab": {}
      },
      "source": [
        ""
      ],
      "execution_count": null,
      "outputs": []
    }
  ]
}