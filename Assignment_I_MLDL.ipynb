{
  "nbformat": 4,
  "nbformat_minor": 0,
  "metadata": {
    "colab": {
      "name": "Assignment-I_MLDL.ipynb",
      "provenance": []
    },
    "kernelspec": {
      "name": "python3",
      "display_name": "Python 3"
    }
  },
  "cells": [
    {
      "cell_type": "markdown",
      "metadata": {
        "id": "8hOZrk7oD1_Y",
        "colab_type": "text"
      },
      "source": [
        "QUESTION I :"
      ]
    },
    {
      "cell_type": "code",
      "metadata": {
        "id": "oi3DjBXmDwnc",
        "colab_type": "code",
        "colab": {
          "base_uri": "https://localhost:8080/",
          "height": 54
        },
        "outputId": "62e36eba-5cd7-4fa0-9097-7b7195a51315"
      },
      "source": [
        "for num in range(2000,3201):\n",
        "  if (num%7==0 and num%5!=0):\n",
        "    print(num, end = ',')  "
      ],
      "execution_count": null,
      "outputs": [
        {
          "output_type": "stream",
          "text": [
            "2002,2009,2016,2023,2037,2044,2051,2058,2072,2079,2086,2093,2107,2114,2121,2128,2142,2149,2156,2163,2177,2184,2191,2198,2212,2219,2226,2233,2247,2254,2261,2268,2282,2289,2296,2303,2317,2324,2331,2338,2352,2359,2366,2373,2387,2394,2401,2408,2422,2429,2436,2443,2457,2464,2471,2478,2492,2499,2506,2513,2527,2534,2541,2548,2562,2569,2576,2583,2597,2604,2611,2618,2632,2639,2646,2653,2667,2674,2681,2688,2702,2709,2716,2723,2737,2744,2751,2758,2772,2779,2786,2793,2807,2814,2821,2828,2842,2849,2856,2863,2877,2884,2891,2898,2912,2919,2926,2933,2947,2954,2961,2968,2982,2989,2996,3003,3017,3024,3031,3038,3052,3059,3066,3073,3087,3094,3101,3108,3122,3129,3136,3143,3157,3164,3171,3178,3192,3199,"
          ],
          "name": "stdout"
        }
      ]
    },
    {
      "cell_type": "markdown",
      "metadata": {
        "id": "y3HE-M5oDuP1",
        "colab_type": "text"
      },
      "source": [
        "QUESTION II :"
      ]
    },
    {
      "cell_type": "code",
      "metadata": {
        "id": "ZZ_ydNpy5ffB",
        "colab_type": "code",
        "colab": {
          "base_uri": "https://localhost:8080/",
          "height": 67
        },
        "outputId": "86cc2e2c-ec84-4b8f-9aeb-4b77683520f6"
      },
      "source": [
        "first = input(\"Enter your first name : \")\n",
        "last = input(\"Enter your last name : \")\n",
        "name = last +\" \"+ first\n",
        "print(name)"
      ],
      "execution_count": null,
      "outputs": [
        {
          "output_type": "stream",
          "text": [
            "Enter your first name : saheel\n",
            "Enter your last name : bobde\n",
            "bobde saheel\n"
          ],
          "name": "stdout"
        }
      ]
    },
    {
      "cell_type": "markdown",
      "metadata": {
        "id": "PD8U-rj2D9_J",
        "colab_type": "text"
      },
      "source": [
        "QUESTION III :"
      ]
    },
    {
      "cell_type": "code",
      "metadata": {
        "id": "0WriMjDy5fml",
        "colab_type": "code",
        "colab": {
          "base_uri": "https://localhost:8080/",
          "height": 34
        },
        "outputId": "6a4019f0-35d3-4d6f-9fbf-ce3508c95965"
      },
      "source": [
        "diameter = 12\n",
        "radius = diameter/2\n",
        "\n",
        "volume = 4/3 * 3.14 * radius**3\n",
        "print(\"Volume of sphere :\" , volume)"
      ],
      "execution_count": null,
      "outputs": [
        {
          "output_type": "stream",
          "text": [
            "Volume of sphere : 904.3199999999999\n"
          ],
          "name": "stdout"
        }
      ]
    }
  ]
}