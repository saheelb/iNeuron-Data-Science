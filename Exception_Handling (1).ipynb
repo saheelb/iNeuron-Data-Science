{
  "nbformat": 4,
  "nbformat_minor": 0,
  "metadata": {
    "colab": {
      "name": "Exception_Handling.ipynb",
      "provenance": []
    },
    "kernelspec": {
      "name": "python3",
      "display_name": "Python 3"
    }
  },
  "cells": [
    {
      "cell_type": "markdown",
      "metadata": {
        "id": "GBs4I88RUcbJ",
        "colab_type": "text"
      },
      "source": [
        "QUESTION I :"
      ]
    },
    {
      "cell_type": "code",
      "metadata": {
        "id": "lP7ncpWt12ty",
        "colab_type": "code",
        "colab": {
          "base_uri": "https://localhost:8080/",
          "height": 70
        },
        "outputId": "7702f888-b614-4de2-ada0-8116b9cd5ffb"
      },
      "source": [
        "a = int(input(\"a = \"))\n",
        "b = int(input(\"b = \"))\n",
        "try: \n",
        "  c = a/b\n",
        "except ZeroDivisionError as e :\n",
        "  print(\"Error Occured : \" , e)"
      ],
      "execution_count": 1,
      "outputs": [
        {
          "output_type": "stream",
          "text": [
            "a = 5\n",
            "b = 0\n",
            "Error Occured :  division by zero\n"
          ],
          "name": "stdout"
        }
      ]
    },
    {
      "cell_type": "markdown",
      "metadata": {
        "id": "Epi245v-L_UY",
        "colab_type": "text"
      },
      "source": [
        "QUESTION - II : "
      ]
    },
    {
      "cell_type": "code",
      "metadata": {
        "id": "WffZ10M_MHl1",
        "colab_type": "code",
        "colab": {
          "base_uri": "https://localhost:8080/",
          "height": 159
        },
        "outputId": "d3f49cb4-92de-4152-8229-c6c26c346dd3"
      },
      "source": [
        "subjects = ['Americans' , 'Indians']\n",
        "verbs = ['play' , 'watch']\n",
        "objects = ['Baseball', ' Cricket'] \n",
        "\n",
        "list_of_sentences = [(sub +\" \"+ verb + \" \" + obj) for sub in subjects for verb in verbs for obj in objects ]\n",
        "for sentences in list_of_sentences:\n",
        "  print (sentences)\n",
        "\n"
      ],
      "execution_count": 17,
      "outputs": [
        {
          "output_type": "stream",
          "text": [
            "Americans play Baseball\n",
            "Americans play  Cricket\n",
            "Americans watch Baseball\n",
            "Americans watch  Cricket\n",
            "Indians play Baseball\n",
            "Indians play  Cricket\n",
            "Indians watch Baseball\n",
            "Indians watch  Cricket\n"
          ],
          "name": "stdout"
        }
      ]
    },
    {
      "cell_type": "code",
      "metadata": {
        "id": "Mp5oI4kvM9EM",
        "colab_type": "code",
        "colab": {}
      },
      "source": [
        ""
      ],
      "execution_count": null,
      "outputs": []
    }
  ]
}