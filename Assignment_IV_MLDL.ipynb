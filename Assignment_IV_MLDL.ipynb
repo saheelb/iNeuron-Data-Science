{
  "nbformat": 4,
  "nbformat_minor": 0,
  "metadata": {
    "colab": {
      "name": "Assignment-IV_MLDL.ipynb",
      "provenance": []
    },
    "kernelspec": {
      "name": "python3",
      "display_name": "Python 3"
    }
  },
  "cells": [
    {
      "cell_type": "markdown",
      "metadata": {
        "id": "qyKP4fEhpmJY",
        "colab_type": "text"
      },
      "source": [
        "QUESTION 1.1\n",
        "1.1 Write a Python Program(with class concepts) to find the area of the triangle using the below\n",
        "formula.\n",
        "area = (s*(s-a)*(s-b)*(s-c)) ** 0.5\n",
        "Function to take the length of the sides of triangle from user should be defined in the parent\n",
        "class and function to calculate the area should be defined in subclass."
      ]
    },
    {
      "cell_type": "code",
      "metadata": {
        "id": "9KhLkvWFpm3x",
        "colab_type": "code",
        "colab": {
          "base_uri": "https://localhost:8080/",
          "height": 88
        },
        "outputId": "4eb6e7be-121d-4411-a1e7-fc2854a2b0a9"
      },
      "source": [
        "class Geometry:\n",
        "    def __init__(self,a,b,c):\n",
        "        self.a = float(a)\n",
        "        self.b = float(b)\n",
        "        self.c = float(c)\n",
        "a= int(input(\"Enter the first side: \"))\n",
        "b= int(input(\"Enter the second side: \"))\n",
        "c= int(input(\"Enter the third side: \"))\n",
        "\n",
        "class Triangle(Geometry):\n",
        "   \n",
        "    def area(self):\n",
        "        s = (a + b + c) / 2\n",
        "        return (s*(s-a)*(s-b)*(s-c)) ** 0.5        \n",
        "\n",
        "t = Triangle(a,b,c)\n",
        "print(\"Area of the Triangle : \" , t.area())"
      ],
      "execution_count": 23,
      "outputs": [
        {
          "output_type": "stream",
          "text": [
            "Enter the first side: 4\n",
            "Enter the second side: 4\n",
            "Enter the third side: 4\n",
            "Area of the Triangle :  6.928203230275509\n"
          ],
          "name": "stdout"
        }
      ]
    },
    {
      "cell_type": "markdown",
      "metadata": {
        "id": "Zt6YvL-s1tH_",
        "colab_type": "text"
      },
      "source": [
        "QUESTION\n",
        "1.2 Write a function filter_long_words() that takes a list of words and an integer n and returns\n",
        "the list of words that are longer than n.\n"
      ]
    },
    {
      "cell_type": "code",
      "metadata": {
        "id": "Mzb2F1qc1yQj",
        "colab_type": "code",
        "colab": {
          "base_uri": "https://localhost:8080/",
          "height": 70
        },
        "outputId": "c2b44258-9424-41f7-a31f-d255a7759026"
      },
      "source": [
        "def filter_long_words(words,number):\n",
        "    listwords = []\n",
        "    for i in range(len(words)):\n",
        "        if len(words[i]) >number:\n",
        "            listwords.append(words[i])\n",
        "    return listwords\n",
        "words = input(\"Please input the list of words: \").split()  \n",
        "number = int(input(\"Enter the number you want to restrict the words with: \"))  \n",
        "filter_long_words(words , number)"
      ],
      "execution_count": 79,
      "outputs": [
        {
          "output_type": "stream",
          "text": [
            "Please input the list of words: i we you love smile gossip waste \n",
            "Enter the number you want to restrict the words with: 4\n"
          ],
          "name": "stdout"
        },
        {
          "output_type": "execute_result",
          "data": {
            "text/plain": [
              "['smile', 'gossip', 'waste']"
            ]
          },
          "metadata": {
            "tags": []
          },
          "execution_count": 79
        }
      ]
    },
    {
      "cell_type": "markdown",
      "metadata": {
        "id": "8UWTZWsf8oRU",
        "colab_type": "text"
      },
      "source": [
        "QUESTION 2.1\n",
        "Write a Python program using function concept that maps list of words into a list of integers\n",
        "representing the lengths of the corresponding words.\n",
        "Hint: If a list [ ab,cde,erty] is passed on to the python function output should come as [2,3,4]\n",
        "Here 2,3 and 4 are the lengths of the words in the list."
      ]
    },
    {
      "cell_type": "code",
      "metadata": {
        "id": "Og3T5CRK8sQE",
        "colab_type": "code",
        "colab": {
          "base_uri": "https://localhost:8080/",
          "height": 52
        },
        "outputId": "21f1fbac-e765-4154-a8c8-085ab8c41b54"
      },
      "source": [
        "def wordlength(words):\n",
        " return list(map(lambda x: len(x), words))\n",
        "\n",
        "words = input(\"Enter the words : \").split()\n",
        "wordlength(words)"
      ],
      "execution_count": 84,
      "outputs": [
        {
          "output_type": "stream",
          "text": [
            "Enter the words : saheel hdkjhf ldjlsdflsjdlkfjl hkfhlkdhsl lal dkhslfhli h\n"
          ],
          "name": "stdout"
        },
        {
          "output_type": "execute_result",
          "data": {
            "text/plain": [
              "[6, 6, 16, 10, 3, 9, 1]"
            ]
          },
          "metadata": {
            "tags": []
          },
          "execution_count": 84
        }
      ]
    },
    {
      "cell_type": "markdown",
      "metadata": {
        "id": "Cj6OQjSK_d3a",
        "colab_type": "text"
      },
      "source": [
        "QUESTION 2.2\n",
        "Write a Python function which takes a character (i.e. a string of length 1) and returns True if\n",
        "it is a vowel, False otherwise."
      ]
    },
    {
      "cell_type": "code",
      "metadata": {
        "id": "s6NG-7Pf_fuB",
        "colab_type": "code",
        "colab": {
          "base_uri": "https://localhost:8080/",
          "height": 35
        },
        "outputId": "5ca07850-ee4e-4e85-cc72-b032e11aa7a9"
      },
      "source": [
        "def vowels(letter):\n",
        "  if letter in ['a' , 'e', 'i' ,'o' ,'u']:\n",
        "    return True\n",
        "  else:\n",
        "    return False\n",
        "vowels('a')    "
      ],
      "execution_count": 80,
      "outputs": [
        {
          "output_type": "execute_result",
          "data": {
            "text/plain": [
              "True"
            ]
          },
          "metadata": {
            "tags": []
          },
          "execution_count": 80
        }
      ]
    }
  ]
}