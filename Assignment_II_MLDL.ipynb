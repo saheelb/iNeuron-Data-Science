{
  "nbformat": 4,
  "nbformat_minor": 0,
  "metadata": {
    "colab": {
      "name": "Assignment-II_MLDL.ipynb",
      "provenance": []
    },
    "kernelspec": {
      "name": "python3",
      "display_name": "Python 3"
    }
  },
  "cells": [
    {
      "cell_type": "markdown",
      "metadata": {
        "id": "yIBs7iO5F2TU",
        "colab_type": "text"
      },
      "source": [
        "QUESTION I :"
      ]
    },
    {
      "cell_type": "code",
      "metadata": {
        "id": "jUn1HRJ6F8UF",
        "colab_type": "code",
        "colab": {
          "base_uri": "https://localhost:8080/",
          "height": 185
        },
        "outputId": "9882753e-25cd-4c3b-dc41-dcbec3465894"
      },
      "source": [
        "import time\n",
        "def patterns(n): \n",
        "    for i in range(0, n):\n",
        "      for j in range(0, i + 1):\n",
        "          print(\"* \", end=\"\")\n",
        "      print(\"\\r\")\n",
        "      time.sleep(2)\n",
        "    for i in range(n, 0, -1):\n",
        "      for j in range(0, i -1 ):\n",
        "          print(\"* \", end=\"\")\n",
        "      print(\"\\r\")\n",
        "      time.sleep(2)\n",
        "\n",
        "patterns(5)"
      ],
      "execution_count": null,
      "outputs": [
        {
          "output_type": "stream",
          "text": [
            "* \n",
            "* * \n",
            "* * * \n",
            "* * * * \n",
            "* * * * * \n",
            "* * * * \n",
            "* * * \n",
            "* * \n",
            "* \n",
            "\n"
          ],
          "name": "stdout"
        }
      ]
    },
    {
      "cell_type": "markdown",
      "metadata": {
        "id": "XvaJT3bHF-5B",
        "colab_type": "text"
      },
      "source": [
        "QUESTION II:"
      ]
    },
    {
      "cell_type": "code",
      "metadata": {
        "id": "x6Jd5kB3FYTZ",
        "colab_type": "code",
        "colab": {
          "base_uri": "https://localhost:8080/",
          "height": 50
        },
        "outputId": "5682f263-0cc3-4f93-af01-d319ad87ae38"
      },
      "source": [
        "input_word = input(\"Enter the word : \")\n",
        "print(\"output_word :\" , input_word[::-1])"
      ],
      "execution_count": null,
      "outputs": [
        {
          "output_type": "stream",
          "text": [
            "Enter the word : ineuron\n",
            "output_word : norueni\n"
          ],
          "name": "stdout"
        }
      ]
    }
  ]
}